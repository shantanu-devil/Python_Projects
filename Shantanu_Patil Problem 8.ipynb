{
 "cells": [
  {
   "cell_type": "code",
   "execution_count": 4,
   "metadata": {},
   "outputs": [
    {
     "name": "stdout",
     "output_type": "stream",
     "text": [
      "Target 11 is present in A1.\n",
      "Target 11 is not present in A2.\n"
     ]
    }
   ],
   "source": [
    "A1 = [1, 28, 89, 34, 67, 23, 87, 21, 11, 45, 89]\n",
    "A2 = [12, 18, 29, 67, 56, 23, 30, 27, 17, 47, 100]\n",
    "\n",
    "Target = 11\n",
    "\n",
    "found_in_A1 = Target in A1\n",
    "print(f\"Target {Target} {'is' if found_in_A1 else 'is not'} present in A1.\")\n",
    "\n",
    "found_in_A2 = Target in A2\n",
    "print(f\"Target {Target} {'is' if found_in_A2 else 'is not'} present in A2.\")"
   ]
  }
 ],
 "metadata": {
  "kernelspec": {
   "display_name": "base",
   "language": "python",
   "name": "python3"
  },
  "language_info": {
   "codemirror_mode": {
    "name": "ipython",
    "version": 3
   },
   "file_extension": ".py",
   "mimetype": "text/x-python",
   "name": "python",
   "nbconvert_exporter": "python",
   "pygments_lexer": "ipython3",
   "version": "3.11.7"
  }
 },
 "nbformat": 4,
 "nbformat_minor": 2
}
