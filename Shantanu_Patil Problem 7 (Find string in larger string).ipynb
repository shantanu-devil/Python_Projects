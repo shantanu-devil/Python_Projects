{
 "cells": [
  {
   "cell_type": "code",
   "execution_count": 4,
   "metadata": {},
   "outputs": [
    {
     "name": "stdout",
     "output_type": "stream",
     "text": [
      "Presence of 'today' in source: True\n",
      "Presence of 'monday' in source: False\n"
     ]
    }
   ],
   "source": [
    "source = \"Today is a great day\"\n",
    "\n",
    "target1 = \"today\"\n",
    "target2 = \"monday\"\n",
    "\n",
    "presence_target1 = target1.lower() in source.lower()\n",
    "presence_target2 = target2.lower() in source.lower()\n",
    "\n",
    "print(f\"Presence of '{target1}' in source: {presence_target1}\")\n",
    "print(f\"Presence of '{target2}' in source: {presence_target2}\")"
   ]
  }
 ],
 "metadata": {
  "kernelspec": {
   "display_name": "base",
   "language": "python",
   "name": "python3"
  },
  "language_info": {
   "codemirror_mode": {
    "name": "ipython",
    "version": 3
   },
   "file_extension": ".py",
   "mimetype": "text/x-python",
   "name": "python",
   "nbconvert_exporter": "python",
   "pygments_lexer": "ipython3",
   "version": "3.11.7"
  }
 },
 "nbformat": 4,
 "nbformat_minor": 2
}
