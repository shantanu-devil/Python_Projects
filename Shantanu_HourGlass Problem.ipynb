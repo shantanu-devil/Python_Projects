{
 "cells": [
  {
   "cell_type": "markdown",
   "metadata": {},
   "source": [
    "## Method 1:"
   ]
  },
  {
   "cell_type": "code",
   "execution_count": 7,
   "metadata": {},
   "outputs": [
    {
     "name": "stdout",
     "output_type": "stream",
     "text": [
      "19\n"
     ]
    }
   ],
   "source": [
    "def hourglassSum(arr):\n",
    "    max_sum = -float('inf') \n",
    "    for i in range(4):  \n",
    "        for j in range(4):\n",
    "            \n",
    "            hourglass_sum = (arr[i][j] + arr[i][j + 1] + arr[i][j + 2] +\n",
    "                             arr[i + 1][j + 1] +\n",
    "                             arr[i + 2][j] + arr[i + 2][j + 1] + arr[i + 2][j + 2])\n",
    "            \n",
    "            max_sum = max(max_sum, hourglass_sum)\n",
    "    return max_sum"
   ]
  },
  {
   "cell_type": "code",
   "execution_count": null,
   "metadata": {},
   "outputs": [],
   "source": [
    "#Example 2D array as given in the problem statement pdf\n",
    "arr = [[1, 1, 1, 0, 0, 0],\n",
    "       [0, 1, 0, 0, 0, 0],\n",
    "       [1, 1, 1, 0, 0, 0],\n",
    "       [0, 0, 2, 4, 4, 0],\n",
    "       [0, 0, 0, 2, 0, 0],\n",
    "       [0, 0, 1, 2, 4, 0]]\n",
    "\n",
    "print(hourglassSum(arr))"
   ]
  },
  {
   "cell_type": "markdown",
   "metadata": {},
   "source": [
    "## Method 2:"
   ]
  },
  {
   "cell_type": "code",
   "execution_count": 19,
   "metadata": {},
   "outputs": [
    {
     "name": "stdout",
     "output_type": "stream",
     "text": [
      "Max sum = 19\n",
      "Min sum = 0\n"
     ]
    }
   ],
   "source": [
    "import numpy as np\n",
    "\n",
    "def hgSum(arr):\n",
    "    arr = np.array(arr)\n",
    "    hg_sums = []  \n",
    "\n",
    "    for i in range(4):\n",
    "        for j in range(4):\n",
    "            \n",
    "            top = np.sum(arr[i, j:j+3])\n",
    "            \n",
    "            middle = arr[i+1, j+1]\n",
    "            \n",
    "            bottom = np.sum(arr[i+2, j:j+3])\n",
    "            \n",
    "            hg_sum = top + middle + bottom\n",
    "            \n",
    "            hg_sums.append(hg_sum)\n",
    "    \n",
    "    \n",
    "    return max(hg_sums), min(hg_sums)\n",
    "\n",
    "#Example 2D array as given in the problem statement pdf\n",
    "arr = [\n",
    "    [1, 1, 1, 0, 0, 0],\n",
    "    [0, 1, 0, 0, 0, 0],\n",
    "    [1, 1, 1, 0, 0, 0],\n",
    "    [0, 0, 2, 4, 4, 0],\n",
    "    [0, 0, 0, 2, 0, 0],\n",
    "    [0, 0, 1, 2, 4, 0]\n",
    "]\n",
    "\n",
    "max_sum, min_sum = hgSum(arr)\n",
    "\n",
    "print(f\"Max sum = {max_sum}\")\n",
    "print(f\"Min sum = {min_sum}\")"
   ]
  },
  {
   "cell_type": "markdown",
   "metadata": {},
   "source": [
    "## Method 3: Using term by term matrix multiplication."
   ]
  },
  {
   "cell_type": "code",
   "execution_count": 1,
   "metadata": {},
   "outputs": [
    {
     "name": "stdout",
     "output_type": "stream",
     "text": [
      "19\n"
     ]
    }
   ],
   "source": [
    "import numpy as np\n",
    "\n",
    "def max_hourglass_sum_using_multiplication(arr):\n",
    "    =\n",
    "    mask = np.array([\n",
    "        [1, 1, 1],\n",
    "        [0, 1, 0],\n",
    "        [1, 1, 1]\n",
    "    ])\n",
    "    \n",
    "    max_sum = float('-inf')\n",
    "    \n",
    "    for i in range(4):\n",
    "        for j in range(4):\n",
    "            current_region = arr[i:i+3, j:j+3]\n",
    "            \n",
    "            hourglass_sum = np.sum(np.multiply(current_region, mask))\n",
    "            \n",
    "            max_sum = max(max_sum, hourglass_sum)\n",
    "    \n",
    "    return max_sum\n",
    "\n",
    "#Example 2D array as given in the problem statement pdf\n",
    "arr = np.array([\n",
    "    [1, 1, 1, 0, 0, 0],\n",
    "    [0, 1, 0, 0, 0, 0],\n",
    "    [1, 1, 1, 0, 0, 0],\n",
    "    [0, 0, 2, 4, 4, 0],\n",
    "    [0, 0, 0, 2, 0, 0],\n",
    "    [0, 0, 1, 2, 4, 0]\n",
    "])\n",
    "\n",
    "print(max_hourglass_sum_using_multiplication(arr))\n"
   ]
  }
 ],
 "metadata": {
  "kernelspec": {
   "display_name": "base",
   "language": "python",
   "name": "python3"
  },
  "language_info": {
   "codemirror_mode": {
    "name": "ipython",
    "version": 3
   },
   "file_extension": ".py",
   "mimetype": "text/x-python",
   "name": "python",
   "nbconvert_exporter": "python",
   "pygments_lexer": "ipython3",
   "version": "3.11.7"
  }
 },
 "nbformat": 4,
 "nbformat_minor": 2
}
