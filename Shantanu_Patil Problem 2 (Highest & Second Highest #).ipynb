{
 "cells": [
  {
   "cell_type": "markdown",
   "metadata": {},
   "source": [
    "Method 1:"
   ]
  },
  {
   "cell_type": "code",
   "execution_count": 2,
   "metadata": {},
   "outputs": [],
   "source": [
    "def top_two(numbers):\n",
    "    sorted_numbers = sorted(numbers, reverse=True)\n",
    "    return sorted_numbers[0], sorted_numbers[1]"
   ]
  },
  {
   "cell_type": "code",
   "execution_count": 3,
   "metadata": {},
   "outputs": [
    {
     "name": "stdout",
     "output_type": "stream",
     "text": [
      "First highest: 11, Second highest: 10\n"
     ]
    }
   ],
   "source": [
    "numbers = [10, 4, 9, 1, 9, 10, 11, 2]\n",
    "first, second = top_two(numbers)\n",
    "print(f\"First highest: {first}, Second highest: {second}\")"
   ]
  },
  {
   "cell_type": "markdown",
   "metadata": {},
   "source": [
    "Method 2:"
   ]
  },
  {
   "cell_type": "code",
   "execution_count": 1,
   "metadata": {},
   "outputs": [],
   "source": [
    "def top_two_no(numbers1):\n",
    "    if numbers1[0] > numbers1[1]:\n",
    "        first, second = numbers1[0], numbers1[1]\n",
    "    else:\n",
    "        first, second = numbers1[1], numbers1[0]\n",
    "    \n",
    "    for n in numbers1[2:]:\n",
    "        if n > first:\n",
    "            second = first\n",
    "            first = n\n",
    "        elif n > second:\n",
    "            second = n\n",
    "    return first, second\n"
   ]
  },
  {
   "cell_type": "code",
   "execution_count": 2,
   "metadata": {},
   "outputs": [
    {
     "name": "stdout",
     "output_type": "stream",
     "text": [
      "First highest: 475, Second highest: 99\n"
     ]
    }
   ],
   "source": [
    "numbers1 = [99, 57, 98, 1, 45, 23, 475,11]\n",
    "first, second = top_two_no(numbers1)\n",
    "print(f\"First highest: {first}, Second highest: {second}\")"
   ]
  },
  {
   "cell_type": "markdown",
   "metadata": {},
   "source": [
    "Method 3: Solution Provided by ChatGPT"
   ]
  },
  {
   "cell_type": "code",
   "execution_count": 3,
   "metadata": {},
   "outputs": [],
   "source": [
    "import heapq\n",
    "\n",
    "def top_two_numbers(numbers2):\n",
    "    return heapq.nlargest(2, numbers2)\n"
   ]
  },
  {
   "cell_type": "code",
   "execution_count": 4,
   "metadata": {},
   "outputs": [
    {
     "name": "stdout",
     "output_type": "stream",
     "text": [
      "First highest: 101, Second highest: 98\n"
     ]
    }
   ],
   "source": [
    "numbers2 = [98, 73, 101, 17, 3, 67, 72, 2]\n",
    "first, second = top_two_numbers(numbers2)\n",
    "print(f\"First highest: {first}, Second highest: {second}\")\n"
   ]
  }
 ],
 "metadata": {
  "kernelspec": {
   "display_name": "base",
   "language": "python",
   "name": "python3"
  },
  "language_info": {
   "codemirror_mode": {
    "name": "ipython",
    "version": 3
   },
   "file_extension": ".py",
   "mimetype": "text/x-python",
   "name": "python",
   "nbconvert_exporter": "python",
   "pygments_lexer": "ipython3",
   "version": "3.11.7"
  }
 },
 "nbformat": 4,
 "nbformat_minor": 2
}
